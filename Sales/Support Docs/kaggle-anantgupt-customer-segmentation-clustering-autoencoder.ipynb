{
 "cells": [
  {
   "cell_type": "markdown",
   "id": "7c280584-ef92-4a0d-a0b5-cdc439b24a7f",
   "metadata": {},
   "source": [
    "# Customer Segmentation | Clustering | AutoEncoder"
   ]
  },
  {
   "cell_type": "markdown",
   "id": "bb3827d2-28e0-4a42-8ace-81eedb77d187",
   "metadata": {},
   "source": [
    "Contents:\n",
    "1. IMPORTING LIBRARIES AND DATASET\n",
    "1. PERFORM EXPLORATORY DATA ANALYSIS AND DATA CLEANING\n",
    "1. FIND THE OPTIMAL NUMBER OF CLUSTERS USING ELBOW METHOD\n",
    "    * Apply k-Means\n",
    "1. APPLY PRINCIPAL COMPONENT ANALYSIS AND VISUALIZE THE RESULTS\n",
    "1. APPLY AUTOENCODERS (PERFORM DIMENSIONALITY REDUCTION USING AUTOENCODERS)\n",
    "    * Apply K-Means again after obtaining results from encoders\n",
    "    * Final Observations\n",
    "\n",
    "Source: [kaggle](https://www.kaggle.com/anantgupt/customer-segmentation-clustering-autoencoder)"
   ]
  },
  {
   "cell_type": "markdown",
   "id": "b79f57a0-ab0b-4f7b-a23a-f1c2ee12b91c",
   "metadata": {},
   "source": [
    "## 1. IMPORTING LIBRARIES AND DATASET"
   ]
  },
  {
   "cell_type": "code",
   "execution_count": null,
   "id": "767aea78-5030-4a06-a557-0e22519a227f",
   "metadata": {},
   "outputs": [],
   "source": [
    "import numpy as np\n",
    "import pandas as pd\n",
    "import matplotlib.pyplot as plt\n",
    "import seaborn as sns\n",
    "import plotly.express as px\n",
    "import plotly.graph_objects as go\n",
    "import cv2  # pip install opencv-python\n",
    "from IPython.display import display\n",
    "import zipfile\n",
    "\n",
    "from sklearn.preprocessing import StandardScaler, normalize\n",
    "from sklearn.cluster import KMeans\n",
    "from sklearn.decomposition import PCA\n",
    "from sklearn.manifold import TSNE\n",
    "from sklearn.metrics import silhouette_score\n",
    "from sklearn.metrics.pairwise import cosine_similarity\n",
    "\n",
    "import tensorflow as tf  # pip install tensorflow\n",
    "import tensorflow.keras.backend as K\n",
    "from tensorflow.python.keras import Sequential\n",
    "from tensorflow.keras import layers, optimizers\n",
    "from tensorflow.keras.layers import *\n",
    "from tensorflow.keras import Model\n",
    "from tensorflow.keras.utils import plot_model\n",
    "from tensorflow.keras.initializers import glorot_uniform\n",
    "from tensorflow.keras.callbacks import ReduceLROnPlateau, EarlyStopping, ModelCheckpoint, LearningRateScheduler"
   ]
  },
  {
   "cell_type": "code",
   "execution_count": null,
   "id": "10a9c26a-9779-49b1-b772-21f8402ab504",
   "metadata": {},
   "outputs": [],
   "source": [
    "sales_df = pd.read_csv('../sales_data_sample.csv')"
   ]
  },
  {
   "cell_type": "code",
   "execution_count": null,
   "id": "b85efde1-4678-4fe9-89f7-08c349f5b129",
   "metadata": {},
   "outputs": [],
   "source": [
    "sales_df.head(2)"
   ]
  },
  {
   "cell_type": "code",
   "execution_count": null,
   "id": "25249b7f-be17-4f14-9521-85620e59d6d1",
   "metadata": {},
   "outputs": [],
   "source": [
    "sales_df.info()"
   ]
  },
  {
   "cell_type": "code",
   "execution_count": null,
   "id": "c10fb31f-5e10-498c-b778-7d8eaf846371",
   "metadata": {},
   "outputs": [],
   "source": [
    "# Convert order date to datetime format\n",
    "sales_df['ORDERDATE'] = pd.to_datetime(sales_df['ORDERDATE'])\n",
    "# Check the type of data of ORDERDATE\n",
    "sales_df.dtypes"
   ]
  },
  {
   "cell_type": "code",
   "execution_count": null,
   "id": "bc62ba75-3c0a-4c46-b2a4-8de92f8bade2",
   "metadata": {},
   "outputs": [],
   "source": [
    "# checking for null values\n",
    "sales_df.isnull().sum()"
   ]
  },
  {
   "cell_type": "markdown",
   "id": "fa8a7528-e176-4e82-ae4b-f1d77573c9aa",
   "metadata": {},
   "source": [
    "we have `ADDRESSLINE2`, `STATE`, `POSTALCODE` and `TERRITORY` these columns have null values"
   ]
  },
  {
   "cell_type": "code",
   "execution_count": null,
   "id": "29bee220-8ce0-4090-94c1-348de30a5d2b",
   "metadata": {},
   "outputs": [],
   "source": [
    "# since there are lot of Null values in 'addressline2', 'state', 'postal code' and 'territory' we can drop them. \n",
    "# Country & City would represent the order grographical information.\n",
    "# Also we can drop city, address1, phone number, contact_name, contact last_name and contact first_name since they are not required for the analysis\n",
    "\n",
    "to_drop = ['ADDRESSLINE1', 'ADDRESSLINE2', 'POSTALCODE', 'CITY', 'TERRITORY', 'PHONE', 'STATE', 'CONTACTFIRSTNAME', 'CONTACTLASTNAME', 'CUSTOMERNAME', 'ORDERNUMBER']\n",
    "sales_df = sales_df.drop(to_drop, axis=1)\n",
    "sales_df.head()"
   ]
  },
  {
   "cell_type": "code",
   "execution_count": null,
   "id": "6d78ba1d-ac4a-41a5-ad31-5f6e5141a743",
   "metadata": {},
   "outputs": [],
   "source": [
    "# checking again for null values\n",
    "sales_df.isnull().sum().sum()"
   ]
  },
  {
   "cell_type": "markdown",
   "id": "bcc83429-21ad-4cb6-a34f-cb8072510bd7",
   "metadata": {},
   "source": [
    "## 2. PERFORM EXPLORATORY DATA ANALYSIS AND DATA CLEANING"
   ]
  },
  {
   "cell_type": "code",
   "execution_count": null,
   "id": "800e7bf7-0f84-49b5-a92c-1fdb34ec2930",
   "metadata": {},
   "outputs": [],
   "source": [
    "# number of unique values\n",
    "sales_df.nunique()"
   ]
  },
  {
   "cell_type": "code",
   "execution_count": null,
   "id": "cd8e8a43-ba54-4bcf-9718-95bd89634637",
   "metadata": {},
   "outputs": [],
   "source": [
    "sales_df.COUNTRY.unique()"
   ]
  },
  {
   "cell_type": "code",
   "execution_count": null,
   "id": "1f53f031-452c-453f-901b-ee0edeb9dbc3",
   "metadata": {},
   "outputs": [],
   "source": [
    "sales_df.COUNTRY.value_counts()"
   ]
  },
  {
   "cell_type": "code",
   "execution_count": null,
   "id": "6b621463-0f98-4531-b717-56a3f2d05590",
   "metadata": {},
   "outputs": [],
   "source": [
    "def barplot_visualization(x):\n",
    "    '''\n",
    "    Function to visulize the count of items in a given column\n",
    "    '''\n",
    "    # fig = plt.figure(figsize=(12,6))\n",
    "    fig = px.bar(x=sales_df[x].unique(), y=sales_df[x].value_counts(), height=600, color=sales_df[x].unique(),\n",
    "                 labels={x: x}\n",
    "                )\n",
    "    fig.update_layout(yaxis=dict(title_text='Count', titlefont=dict(size=20)),\n",
    "                      xaxis=dict(title_text=x, titlefont=dict(size=20)),\n",
    "                      title_text=x[0] + x[1:].lower() + ' Bar Plot'\n",
    "                      )\n",
    "    fig.show()\n",
    "\n",
    "\n",
    "g = barplot_visualization('COUNTRY')"
   ]
  },
  {
   "cell_type": "code",
   "execution_count": null,
   "id": "8272016d-80df-4f99-9685-83c0433eae1b",
   "metadata": {},
   "outputs": [],
   "source": [
    "barplot_visualization('STATUS')"
   ]
  },
  {
   "cell_type": "code",
   "execution_count": null,
   "id": "2b35ce99-b008-4359-aff3-1eedbf385b0b",
   "metadata": {},
   "outputs": [],
   "source": [
    "barplot_visualization('DEALSIZE')"
   ]
  },
  {
   "cell_type": "code",
   "execution_count": null,
   "id": "ab577201-b69a-4c6f-b4cf-5a1825e75234",
   "metadata": {},
   "outputs": [],
   "source": [
    "barplot_visualization('PRODUCTLINE')"
   ]
  },
  {
   "cell_type": "markdown",
   "id": "8795cebf-3da5-4c89-bf85-366d3247a88f",
   "metadata": {},
   "source": [
    "### Encoding Categorical Variables"
   ]
  },
  {
   "cell_type": "code",
   "execution_count": null,
   "id": "001eb7dc-bf05-4f24-b22c-e6753cfe775d",
   "metadata": {},
   "outputs": [],
   "source": [
    "status_dict = {'Shipped': 1, 'Cancelled': 2, 'On Hold': 2, 'Disputed': 2, 'In Process': 0, 'Resolved': 0}\n",
    "sales_df['STATUS'].replace(status_dict, inplace=True)"
   ]
  },
  {
   "cell_type": "code",
   "execution_count": null,
   "id": "712fdc40-847e-43dc-93c8-74958ed78d77",
   "metadata": {},
   "outputs": [],
   "source": [
    "sales_df = pd.get_dummies(data=sales_df, columns=['PRODUCTLINE', 'DEALSIZE', 'COUNTRY'])\n",
    "sales_df.shape"
   ]
  },
  {
   "cell_type": "code",
   "execution_count": null,
   "id": "c53bdc1e-25fe-42ae-9cd6-d4e8844585d5",
   "metadata": {},
   "outputs": [],
   "source": [
    "sales_df.head()"
   ]
  },
  {
   "cell_type": "code",
   "execution_count": null,
   "id": "aa793899-d2fd-4091-b117-119027fc91f2",
   "metadata": {},
   "outputs": [],
   "source": [
    "pd.Categorical(sales_df['PRODUCTCODE'])"
   ]
  },
  {
   "cell_type": "code",
   "execution_count": null,
   "id": "1b644367-8764-4e38-84ef-65232bc0c235",
   "metadata": {},
   "outputs": [],
   "source": [
    "pd.Categorical(sales_df['PRODUCTCODE']).codes"
   ]
  },
  {
   "cell_type": "markdown",
   "id": "6651759f-2fcd-4e8f-8db1-35deaa83c45c",
   "metadata": {},
   "source": [
    "Since the number unique product code is 109, if we add one-hot variables, there would be additional 109 columns, we can avoid that by using categorical encoding. This is not the optimal way of dealing with it but it's important to avoid curse of dimensionality"
   ]
  },
  {
   "cell_type": "code",
   "execution_count": null,
   "id": "1a8dc790-65d7-4c77-b0bc-6db3f94c01b0",
   "metadata": {},
   "outputs": [],
   "source": [
    "sales_df['PRODUCTCODE'] = pd.Categorical(sales_df['PRODUCTCODE']).codes"
   ]
  },
  {
   "cell_type": "code",
   "execution_count": null,
   "id": "1016232e-0f60-47a5-838b-a462cf3a154c",
   "metadata": {},
   "outputs": [],
   "source": [
    "date_group = sales_df.groupby('ORDERDATE').sum()\n",
    "date_group"
   ]
  },
  {
   "cell_type": "code",
   "execution_count": null,
   "id": "b0c74b13-278e-4ad9-87fe-a9a69fed903a",
   "metadata": {},
   "outputs": [],
   "source": [
    "fig = px.line(x = date_group.index, y = date_group.SALES, title = 'Sales vs Date')\n",
    "fig.update_layout(yaxis=dict(title_text='Sales', titlefont=dict(size=15)), \n",
    "                  xaxis=dict(title_text='Date', titlefont=dict(size=15))\n",
    "                 )\n",
    "fig.show()"
   ]
  },
  {
   "cell_type": "code",
   "execution_count": null,
   "id": "d97749ca-0a4e-47a9-bf8b-ccd81e4365fe",
   "metadata": {},
   "outputs": [],
   "source": [
    "# We can drop 'ORDERDATE' and keep the rest of the date-related data such as 'MONTH'\n",
    "sales_df.drop(\"ORDERDATE\", axis=1, inplace=True)\n",
    "sales_df.shape"
   ]
  },
  {
   "cell_type": "code",
   "execution_count": null,
   "id": "c2942ffb-c1cf-4280-962d-76b9ea7022ff",
   "metadata": {},
   "outputs": [],
   "source": [
    "plt.figure(figsize = (20, 20))\n",
    "corr_matrix = sales_df.iloc[:, :10].corr()\n",
    "sns.heatmap(corr_matrix, annot=True);"
   ]
  },
  {
   "cell_type": "markdown",
   "id": "d3583af9-b354-4d1e-b338-3da5b415b98e",
   "metadata": {},
   "source": [
    "### OBESRVATIONS (Heatmap)"
   ]
  },
  {
   "cell_type": "markdown",
   "id": "df14e276-5b8b-4483-9b78-39b25c6f46e4",
   "metadata": {},
   "source": [
    "* There is a high co-relation in Quarter ID and the monthly IDs\n",
    "* MSRP is +velly correlated to PRICEEACH and SALES\n",
    "* PRODUCTCODE is -velly correlated with MSRP, PRICEEACH and SALES\n",
    "* +ve correlation btw SALES, PRICEEACH, QUANTITYORDERED"
   ]
  },
  {
   "cell_type": "code",
   "execution_count": null,
   "id": "c3487974-f001-46ee-987b-d13498d449ee",
   "metadata": {},
   "outputs": [],
   "source": [
    "# It looks like the Quarter ID and the monthly IDs are highly correlated as they will produce nearly same results\n",
    "# Let's drop 'QTR_ID' (or 'MONTH_ID')\n",
    "sales_df.drop(\"QTR_ID\", axis=1, inplace=True)\n",
    "sales_df.shape"
   ]
  },
  {
   "cell_type": "code",
   "execution_count": null,
   "id": "0c5fcf5e-3227-479e-b113-342333963d1e",
   "metadata": {},
   "outputs": [],
   "source": [
    "import plotly.figure_factory as ff"
   ]
  },
  {
   "cell_type": "markdown",
   "id": "b421f9d5-7374-4bc2-b0df-ff5187ccab3d",
   "metadata": {},
   "source": [
    "Distplot shows the (1) histogram, (2) kde plot and (3) rug plot.\n",
    "1. Histogram: it's a graphical display of data using bars with various heights. Each bar groups numbers into ranges and taller bars show that more data falls in that range.\n",
    "2. Kde Plot: Kernel Density Estimate is used for visualizing the Probability Density of a continuous variable.\n",
    "3. Rug plot: plot of data for a single quantitative variable, displayed as marks along an axis (one-dimensional scatter plot). "
   ]
  },
  {
   "cell_type": "code",
   "execution_count": null,
   "id": "2258b09f-a59d-44eb-a0d4-976d35f44038",
   "metadata": {},
   "outputs": [],
   "source": [
    "# fig = plt.figure(figsize=(10,10));\n",
    "for i in range(8):\n",
    "    if sales_df.columns[i] != 'ORDERLINENUMBER':\n",
    "        fig = ff.create_distplot([sales_df[sales_df.columns[i]].apply(lambda x: float(x))], ['distplot']);\n",
    "        fig.update_layout(title_text=sales_df.columns[i]);\n",
    "        fig.show();"
   ]
  },
  {
   "cell_type": "code",
   "execution_count": null,
   "id": "49af1592-1dba-49d7-8c8b-b96bfc7f8bf1",
   "metadata": {},
   "outputs": [],
   "source": [
    "# Visualize the relationship between variables using pairplots\n",
    "\n",
    "fig = px.scatter_matrix(sales_df,\n",
    "                        dimensions=sales_df.columns[:8], \n",
    "                        color='MONTH_ID')  # fill color by months\n",
    "fig.update_layout(title_text='Sales Data',\n",
    "                  width=1100,\n",
    "                  height=1100\n",
    "                  )\n",
    "fig.show()"
   ]
  },
  {
   "cell_type": "markdown",
   "id": "9c400d74-71e9-411d-a11b-f34f9001799d",
   "metadata": {},
   "source": [
    "### OBESRVATIONS (Scattermatrix)\n",
    "* A trend exists between 'SALES' and 'QUANTITYORDERED'\n",
    "* A trend exists between 'MSRP' and 'PRICEEACH' (there are some outlaiers)\n",
    "* A trend exists between 'PRICEEACH' and 'SALES'\n",
    "* It seems that sales growth exists as we move from 2013 to 2014 to 2015 ('SALES' vs. 'YEAR_ID')"
   ]
  },
  {
   "cell_type": "markdown",
   "id": "a6e74e24-bade-4004-98a8-e00d0d960975",
   "metadata": {},
   "source": [
    "## 3. FIND THE OPTIMAL NUMBER OF CLUSTERS USING ELBOW METHOD"
   ]
  },
  {
   "cell_type": "code",
   "execution_count": null,
   "id": "0bc08fdf-8b21-4aee-ba93-31d6b722f712",
   "metadata": {},
   "outputs": [],
   "source": [
    "# Scale the data\n",
    "scaler = StandardScaler()\n",
    "sales_df_scaled = scaler.fit_transform(sales_df)"
   ]
  },
  {
   "cell_type": "code",
   "execution_count": null,
   "id": "c0b66835-d5b3-43a4-9eb9-c44acb7fa367",
   "metadata": {},
   "outputs": [],
   "source": [
    "wcss = []\n",
    "for i in range(1, 15):\n",
    "    kmeans = KMeans(n_clusters=i)\n",
    "    kmeans.fit(sales_df_scaled)\n",
    "    wcss.append(kmeans.inertia_)  # intertia is the Sum of squared distances of samples to their closest cluster center (WCSS)\n",
    "\n",
    "plt.plot(wcss, marker='o', linestyle='--')\n",
    "plt.title('The Elbow Method (Finding right number of clusters)')\n",
    "plt.xlabel('Number of CLusters')\n",
    "plt.ylabel('WCSS')\n",
    "plt.show()"
   ]
  },
  {
   "cell_type": "markdown",
   "id": "3a808048-2366-4361-8796-03445c4ba32e",
   "metadata": {},
   "source": [
    "From this we can observe that, 5th cluster seems to be forming the elbow of the curve. after that we will apply auto encoders to solve this problem"
   ]
  },
  {
   "cell_type": "code",
   "execution_count": null,
   "id": "cff2b76b-0ec1-4c3a-96fd-7873281de703",
   "metadata": {},
   "outputs": [],
   "source": [
    "# applying k-means with 5 clusters\n",
    "kmeans = KMeans(n_clusters=5, init='k-means++')\n",
    "kmeans.fit(sales_df_scaled)\n",
    "labels = kmeans.labels_\n",
    "labels"
   ]
  },
  {
   "cell_type": "code",
   "execution_count": null,
   "id": "56d8320c-5cdd-4cea-8389-83e93ef80ad0",
   "metadata": {},
   "outputs": [],
   "source": [
    "kmeans.cluster_centers_.shape"
   ]
  },
  {
   "cell_type": "code",
   "execution_count": null,
   "id": "3feb91d1-99b5-4aa3-9c12-23350699137f",
   "metadata": {},
   "outputs": [],
   "source": [
    "cluster_centers = pd.DataFrame(data=kmeans.cluster_centers_, columns=sales_df.columns)\n",
    "cluster_centers"
   ]
  },
  {
   "cell_type": "code",
   "execution_count": null,
   "id": "12369a54-0d55-4121-bdc6-455126698409",
   "metadata": {},
   "outputs": [],
   "source": [
    "# In order to understand what these numbers mean, let's perform inverse transformation\n",
    "cluster_centers = scaler.inverse_transform(cluster_centers)\n",
    "cluster_centers = pd.DataFrame(data=cluster_centers, columns=sales_df.columns)\n",
    "cluster_centers"
   ]
  },
  {
   "cell_type": "code",
   "execution_count": null,
   "id": "648653a8-d8dc-4c81-8b9b-9c2d7e809d4c",
   "metadata": {},
   "outputs": [],
   "source": [
    "sales_df['ORDERLINENUMBER'] = sales_df['ORDERLINENUMBER'].apply(lambda x: float(x))"
   ]
  },
  {
   "cell_type": "code",
   "execution_count": null,
   "id": "04460d07-b980-449d-8bbc-d215765a7c4c",
   "metadata": {},
   "outputs": [],
   "source": [
    "# Add a label (which cluster) corresponding to each data point\n",
    "sales_df_cluster = pd.concat([sales_df, pd.DataFrame({'cluster': labels})], axis=1)\n",
    "sales_df_cluster"
   ]
  },
  {
   "cell_type": "code",
   "execution_count": null,
   "id": "b3713d5f-6729-4e0f-92d9-7430c5089a06",
   "metadata": {},
   "outputs": [],
   "source": [
    "# plot histogram for each feature based on cluster \n",
    "for i in sales_df.columns[:8]:\n",
    "    plt.figure(figsize=(30, 6))\n",
    "    for j in range(5):\n",
    "        plt.subplot(1, 5, j+1)\n",
    "        cluster = sales_df_cluster[sales_df_cluster['cluster']==j]\n",
    "        cluster[i].hist()\n",
    "        plt.title('{} \\ncluster {}'.format(i,j))\n",
    "plt.show()"
   ]
  },
  {
   "cell_type": "markdown",
   "id": "f8537f2a-3662-4da5-9963-d7b3db404e38",
   "metadata": {},
   "source": [
    "OBERSVATIONS:\n",
    "* `CLUSTER 0` (highest) - customer in this group buy item in high quantity, price of each item ~ 99, they also corresponds to highest total sales of ~ 8293. They are the highest buyers of products with high MSRP ~158.\n",
    "* `CLUSTER 1` - This cluster is nearly close to cluster 4 with MSRP around 94 and average quantity ordered ~34, average piced ~ 83 and sales to 3169\n",
    "* `CLUSTER 2` (lowest) - This group represents customers who buy items in varying quantity ~30, they tend to low price items ~68. Their sales is ~ 2061, they buy products with lowert MSRP of ~62.\n",
    "* `CLUSTER 3` - This is the second highest cluster, this group buy in medium quantity ~38, wwith total sales upto ~ 4405 with average price of ~ 95. The MSRP is around 115\n",
    "* `CLUSTER 4` - This group represents customers who are only active during the holidays. they buy in lower quantity ~35, but they tend to buy average price items around ~87. They also correspond to lower total sales around ~3797, they tend to buy items with MSRP around 116.\n",
    "\n",
    "> NOTE: the KMeans result in the final (save version run) might be different with cluster number and values, but the obervations will be simillar"
   ]
  },
  {
   "cell_type": "markdown",
   "id": "fc0f0184-34a9-4f93-822b-3b60a8372c81",
   "metadata": {},
   "source": [
    "## 4. APPLY PRINCIPAL COMPONENT ANALYSIS AND VISUALIZE THE RESULTS"
   ]
  },
  {
   "cell_type": "code",
   "execution_count": null,
   "id": "32528c2c-2183-4939-ba63-03538ab0ff50",
   "metadata": {},
   "outputs": [],
   "source": [
    "pca = PCA(n_components=3)\n",
    "principal_comp = pca.fit_transform(sales_df_scaled)\n",
    "principal_comp"
   ]
  },
  {
   "cell_type": "code",
   "execution_count": null,
   "id": "96f2b65c-9bb4-4689-8b4c-6256b6660b48",
   "metadata": {},
   "outputs": [],
   "source": [
    "pca_df = pd.DataFrame(data=principal_comp, columns=['pca1', 'pca2', 'pca3'])\n",
    "pca_df.head()"
   ]
  },
  {
   "cell_type": "code",
   "execution_count": null,
   "id": "b4f1ea4d-b08c-4996-8d01-15c57f2e8518",
   "metadata": {},
   "outputs": [],
   "source": [
    "pca_df = pd.concat([pca_df, pd.DataFrame({'cluster': labels})], axis=1)\n",
    "pca_df.head()"
   ]
  },
  {
   "cell_type": "code",
   "execution_count": null,
   "id": "e4dfc3f8-4b8e-404d-a439-04edb686cb10",
   "metadata": {},
   "outputs": [],
   "source": [
    "pca_df.iloc[:, 3].unique()"
   ]
  },
  {
   "cell_type": "code",
   "execution_count": null,
   "id": "0ebd4095-2091-4c32-9d74-18ef23e14003",
   "metadata": {},
   "outputs": [],
   "source": [
    "fig = px.scatter_3d(pca_df, x='pca1', y='pca2', z='pca3',\n",
    "                    color='cluster',\n",
    "                    symbol='cluster',\n",
    "                    size_max=18, opacity=0.7)\n",
    "fig.update_layout(margin=dict(l=0, r=0, b=0, t=0))"
   ]
  },
  {
   "cell_type": "markdown",
   "id": "1500cc4c-6f1a-4846-9ad5-215da21001a0",
   "metadata": {},
   "source": [
    "Some cluster seems to overlap each other, this issue will be solved by auto encoders"
   ]
  },
  {
   "cell_type": "markdown",
   "id": "c4f4a32a-730c-489b-97ed-7f8118d0d158",
   "metadata": {},
   "source": [
    "## 5. APPLY AUTOENCODERS (PERFORM DIMENSIONALITY REDUCTION USING AUTOENCODERS)"
   ]
  },
  {
   "cell_type": "markdown",
   "id": "1ebacf51-30d3-4701-865d-23c119eea530",
   "metadata": {},
   "source": [
    "* auto encoders are a type of Artificial Neural Network that are used to perform data encoding or representation learning\n",
    "* auto encoders use the input and give the same output\n",
    "* auto encoders works by adding a bottle neck in network\n",
    "* this bottleneck forces the network to create a compressed (encoded) version of the original input\n",
    "* auto encoders works well if there is correlation between inputs"
   ]
  },
  {
   "cell_type": "code",
   "execution_count": null,
   "id": "11184f7c-49a8-44f5-bb0d-09935d2d76d1",
   "metadata": {},
   "outputs": [],
   "source": [
    "sales_df.shape"
   ]
  },
  {
   "cell_type": "code",
   "execution_count": null,
   "id": "47cebb9e-2c7d-496e-b906-4848f8c8b383",
   "metadata": {},
   "outputs": [],
   "source": [
    "input_df = Input(shape=(38,))\n",
    "x = Dense(50, activation='relu')(input_df)\n",
    "x = Dense(500, activation='relu', kernel_initializer='glorot_uniform')(x)\n",
    "x = Dense(500, activation='relu', kernel_initializer='glorot_uniform')(x)\n",
    "x = Dense(2000, activation='relu', kernel_initializer='glorot_uniform')(x)\n",
    "encoded = Dense(8, activation='relu', kernel_initializer='glorot_uniform')(x)\n",
    "x = Dense(2000, activation='relu', kernel_initializer='glorot_uniform')(encoded)\n",
    "x = Dense(500, activation='relu', kernel_initializer='glorot_uniform')(x)\n",
    "decoded = Dense(38, kernel_initializer='glorot_uniform')(x)\n",
    "\n",
    "# autoencoder\n",
    "autoencoder = Model(input_df, decoded)\n",
    "\n",
    "# encoder - used for dimensionality reduction\n",
    "encoder = Model(input_df, encoded)\n",
    "\n",
    "autoencoder.compile(optimizer='adam', loss='mean_squared_error')"
   ]
  },
  {
   "cell_type": "code",
   "execution_count": null,
   "id": "8dc3c2fc-7d60-4089-89c7-d060e357596f",
   "metadata": {
    "tags": []
   },
   "outputs": [],
   "source": [
    "autoencoder.fit(sales_df, sales_df, batch_size=128, epochs=500, verbose=3)"
   ]
  },
  {
   "cell_type": "code",
   "execution_count": null,
   "id": "6347d99b-436f-4e31-9b2d-e72e76e14a53",
   "metadata": {},
   "outputs": [],
   "source": [
    "encoded_df = autoencoder.predict(sales_df_scaled)"
   ]
  },
  {
   "cell_type": "code",
   "execution_count": null,
   "id": "cc0aa342-e653-4d2e-adae-e6b02b3c895a",
   "metadata": {},
   "outputs": [],
   "source": [
    "wcss = []\n",
    "for i in range(1,15):\n",
    "    kmeans = KMeans(n_clusters=i)\n",
    "    kmeans.fit(encoded_df)\n",
    "    wcss.append(kmeans.inertia_)  # intertia is the Sum of squared distances of samples to their closest cluster center (WCSS)\n",
    "\n",
    "plt.plot(wcss, marker='o', linestyle='--')\n",
    "plt.title('The Elbow Method (Finding right number of clusters)')\n",
    "plt.xlabel('Number of CLusters')\n",
    "plt.ylabel('WCSS')\n",
    "plt.show()"
   ]
  },
  {
   "cell_type": "markdown",
   "id": "56b4415a-2652-4596-9512-ec3627e413b2",
   "metadata": {},
   "source": [
    "From the above `layer 3` clusters seems best choice"
   ]
  },
  {
   "cell_type": "code",
   "execution_count": null,
   "id": "d739eaac-f84f-431e-b339-16d9cd358500",
   "metadata": {},
   "outputs": [],
   "source": [
    "kmeans = KMeans(3)\n",
    "kmeans.fit(encoded_df)\n",
    "labels = kmeans.labels_\n",
    "y = kmeans.fit_predict(sales_df_scaled)"
   ]
  },
  {
   "cell_type": "code",
   "execution_count": null,
   "id": "d911454e-0b91-4130-ad4f-5280b7465b14",
   "metadata": {},
   "outputs": [],
   "source": [
    "df_cluster_dr = pd.concat([sales_df, pd.DataFrame({'cluster':labels})], axis = 1)\n",
    "df_cluster_dr.head()"
   ]
  },
  {
   "cell_type": "code",
   "execution_count": null,
   "id": "e98774b4-d4a9-421b-bdba-0af771eeecf5",
   "metadata": {},
   "outputs": [],
   "source": [
    "cluster_centers = pd.DataFrame(data=kmeans.cluster_centers_, columns=[sales_df.columns])\n",
    "cluster_centers = scaler.inverse_transform(cluster_centers)\n",
    "cluster_centers = pd.DataFrame(data=cluster_centers, columns=[sales_df.columns])\n",
    "cluster_centers"
   ]
  },
  {
   "cell_type": "code",
   "execution_count": null,
   "id": "d9c77691-63ac-42d0-8052-5474ebb040ed",
   "metadata": {},
   "outputs": [],
   "source": [
    "# plot histogram for each feature based on cluster\n",
    "for i in sales_df.columns[:8]:\n",
    "    plt.figure(figsize=(30, 6))\n",
    "    for j in range(3):\n",
    "        plt.subplot(1, 3, j+1)\n",
    "        cluster = df_cluster_dr[df_cluster_dr['cluster'] == j]\n",
    "        cluster[i].hist()\n",
    "        plt.title('{}    \\nCluster - {} '.format(i,j))\n",
    "\n",
    "plt.show()"
   ]
  },
  {
   "cell_type": "markdown",
   "id": "32e2f0ec-1997-429d-8c33-5001f034a66c",
   "metadata": {},
   "source": [
    "### FINAL OBESERVATIONS"
   ]
  },
  {
   "cell_type": "markdown",
   "id": "4b82b75c-4d71-4abe-a559-10a1b0c5e579",
   "metadata": {},
   "source": [
    "* `Cluster 0` - This group represents customers who buy items in high quantity(47), they usually buy items with high prices(99). They bring-in more sales than other clusters. They are mostly active through out the year. They usually buy products corresponding to product code 10-90. They buy products with high mrsp(158).\n",
    "* `Cluster 1` - This group represents customers who buy items in average quantity(37) and they buy tend to buy high price items(95). They bring-in average sales(4398) and they are active all around the year.They are the highest buyers of products corresponding to product code 0-10 and 90-100.Also they prefer to buy products with high MSRP(115) .\n",
    "* `Cluster 2` - This group represents customers who buy items in small quantity(30), they tend to buy low price items(69). They correspond to the lowest total sale(2061) and they are active all around the year.They are the highest buyers of products corresponding to product code 0-20 and 100-110 they then to buy products with low MSRP(77)."
   ]
  },
  {
   "cell_type": "code",
   "execution_count": null,
   "id": "5c5ed91e-dcde-4fd6-a715-2a8b5e9468aa",
   "metadata": {},
   "outputs": [],
   "source": [
    "# Reduce the original data to 3 dimension using PCA for visualize the clusters\n",
    "pca = PCA(n_components=3)\n",
    "prin_comp = pca.fit_transform(sales_df_scaled)\n",
    "pca_df = pd.DataFrame(data=prin_comp, columns=['pca1', 'pca2', 'pca3'])\n",
    "pca_df = pd.concat([pca_df, pd.DataFrame({'cluster': labels})], axis=1)\n",
    "pca_df.head()"
   ]
  },
  {
   "cell_type": "code",
   "execution_count": null,
   "id": "d709b47c-95ba-44d7-b337-f64387db688a",
   "metadata": {},
   "outputs": [],
   "source": [
    "# Visualize clusters using 3D-Scatterplot\n",
    "fig = px.scatter_3d(pca_df, x='pca1', y='pca2', z='pca3',\n",
    "                    color='cluster', symbol='cluster', size_max=10, opacity=0.7)\n",
    "fig.update_layout(margin=dict(l=0, r=0, b=0, t=0))"
   ]
  }
 ],
 "metadata": {
  "kernelspec": {
   "display_name": "Python 3 (ipykernel)",
   "language": "python",
   "name": "python3"
  },
  "language_info": {
   "codemirror_mode": {
    "name": "ipython",
    "version": 3
   },
   "file_extension": ".py",
   "mimetype": "text/x-python",
   "name": "python",
   "nbconvert_exporter": "python",
   "pygments_lexer": "ipython3",
   "version": "3.9.5"
  }
 },
 "nbformat": 4,
 "nbformat_minor": 5
}
